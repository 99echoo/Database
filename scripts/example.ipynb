{
 "cells": [
  {
   "cell_type": "code",
   "execution_count": 2,
   "metadata": {},
   "outputs": [
    {
     "name": "stdout",
     "output_type": "stream",
     "text": [
      "Collecting PyMySQL\n",
      "  Downloading PyMySQL-1.1.1-py3-none-any.whl.metadata (4.4 kB)\n",
      "Downloading PyMySQL-1.1.1-py3-none-any.whl (44 kB)\n",
      "Installing collected packages: PyMySQL\n",
      "Successfully installed PyMySQL-1.1.1\n",
      "Note: you may need to restart the kernel to use updated packages.\n"
     ]
    },
    {
     "name": "stderr",
     "output_type": "stream",
     "text": [
      "\n",
      "[notice] A new release of pip is available: 24.2 -> 24.3.1\n",
      "[notice] To update, run: python.exe -m pip install --upgrade pip\n"
     ]
    }
   ],
   "source": [
    "pip install PyMySQL"
   ]
  },
  {
   "cell_type": "code",
   "execution_count": 18,
   "metadata": {},
   "outputs": [
    {
     "name": "stdout",
     "output_type": "stream",
     "text": [
      "테이블 생성 완료\n",
      "DB 연결 종료\n"
     ]
    }
   ],
   "source": [
    "import pymysql\n",
    "\n",
    "try:\n",
    "    # 1) DB 연결\n",
    "    connection = pymysql.connect(\n",
    "        host= '34.47.78.22', #는 IP 주소\n",
    "        user= '동김현' ,           # 사용자명\n",
    "        password='1234',         # 비밀번호\n",
    "        db='app_database',       # 사용할 DB 이름\n",
    "        charset='utf8mb4',\n",
    "        cursorclass=pymysql.cursors.DictCursor\n",
    "    )\n",
    "    \n",
    "    # 2) 테이블 생성\n",
    "    with connection.cursor() as cursor:\n",
    "        create_table_sql = '''\n",
    "        CREATE TABLE IF NOT EXISTS example (\n",
    "            id INT(11) NOT NULL AUTO_INCREMENT PRIMARY KEY,\n",
    "            name VARCHAR(50) NOT NULL\n",
    "        );\n",
    "        '''\n",
    "        cursor.execute(create_table_sql)\n",
    "        print(\"테이블 생성 완료\")\n",
    "    \n",
    "    # 3) 변경 사항 커밋\n",
    "    connection.commit()\n",
    "\n",
    "except pymysql.MySQLError as e:\n",
    "    print(\"MySQL 오류 발생:\", e)\n",
    "    connection.rollback()\n",
    "\n",
    "finally:\n",
    "    # 4) 연결 종료\n",
    "    if connection:\n",
    "        connection.close()\n",
    "    print(\"DB 연결 종료\")"
   ]
  },
  {
   "cell_type": "code",
   "execution_count": 12,
   "metadata": {},
   "outputs": [
    {
     "name": "stdout",
     "output_type": "stream",
     "text": [
      "SERVICE_KEY: mW18J6e5gQ61JGt5YYgjiPhATkpOt/KJJxNjPUP3j/RoQF4VCrtduhvdMHs52rOOgdKh15FqXmnsPSsk8avWWA==\n"
     ]
    }
   ],
   "source": [
    "import requests\n",
    "import json\n",
    "import os\n",
    "from dotenv import load_dotenv\n",
    "import pandas as pd\n",
    "\n",
    "dotenv_path = 'C:/Users/kdh20/OneDrive/Desktop/DataBase/API_key/여성가족부_key.env'\n",
    "load_dotenv(dotenv_path=dotenv_path)\n",
    "\n",
    "service_key = os.getenv('SERVICE_KEY')\n",
    "print(f\"SERVICE_KEY: {service_key}\")"
   ]
  },
  {
   "cell_type": "code",
   "execution_count": 1,
   "metadata": {},
   "outputs": [
    {
     "name": "stdout",
     "output_type": "stream",
     "text": [
      "DB_PASSWORD: None\n"
     ]
    }
   ],
   "source": [
    "import os\n",
    "from dotenv import load_dotenv\n",
    "\n",
    "load_dotenv()\n",
    "db_password = os.getenv(\"DB_PASSWORD\")\n",
    "print(f\"DB_PASSWORD: {db_password}\")  # None이라면 .env 파일을 제대로 불러오지 못함"
   ]
  }
 ],
 "metadata": {
  "kernelspec": {
   "display_name": "Python 3",
   "language": "python",
   "name": "python3"
  },
  "language_info": {
   "codemirror_mode": {
    "name": "ipython",
    "version": 3
   },
   "file_extension": ".py",
   "mimetype": "text/x-python",
   "name": "python",
   "nbconvert_exporter": "python",
   "pygments_lexer": "ipython3",
   "version": "3.12.6"
  }
 },
 "nbformat": 4,
 "nbformat_minor": 2
}
